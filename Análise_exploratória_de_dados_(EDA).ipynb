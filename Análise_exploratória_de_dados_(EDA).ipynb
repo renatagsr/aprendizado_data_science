{
  "nbformat": 4,
  "nbformat_minor": 0,
  "metadata": {
    "colab": {
      "name": "Análise exploratória de dados (EDA).ipynb",
      "provenance": [],
      "authorship_tag": "ABX9TyMN754N4AOIxmOBh/1uzOJ4",
      "include_colab_link": true
    },
    "kernelspec": {
      "name": "python3",
      "display_name": "Python 3"
    }
  },
  "cells": [
    {
      "cell_type": "markdown",
      "metadata": {
        "id": "view-in-github",
        "colab_type": "text"
      },
      "source": [
        "<a href=\"https://colab.research.google.com/github/renatagsr/aprendizado_data_science/blob/master/An%C3%A1lise_explorat%C3%B3ria_de_dados_(EDA).ipynb\" target=\"_parent\"><img src=\"https://colab.research.google.com/assets/colab-badge.svg\" alt=\"Open In Colab\"/></a>"
      ]
    },
    {
      "cell_type": "markdown",
      "metadata": {
        "id": "9GSNgGHX7sBX"
      },
      "source": [
        "# Exploratory Data Analysis - EDA (Análise Exploratória de Dados)\n",
        "\n",
        "<center><img width = '50%' src = \"https://upload.wikimedia.org/wikipedia/commons/thumb/b/ba/Data_visualization_process_v1.png/350px-Data_visualization_process_v1.png\"></center>\n",
        "\n",
        "A análise exploratória de dados é o ato de analisar conjuntos de dados a fim de resumir as suas principais características, grande parte das vezes utiliza-se métodos visuais. É utilizada para ver o que os dados podem dizer além da modelagem formal.\n",
        "\n",
        "No Python o EDA utiliza visualização de dados para obter padrões e insights criativos. Além disso envolve a elaboração de conjuntos de dados para a análise, removendo as possíveis irregularidades dos dados.\n",
        "\n",
        "Uma EDA bem feita irá facilitar o processo de machine learning. \n",
        "\n",
        "Esse notebook foi produzido com base do seguinte artigo do Towards Data Science: https://towardsdatascience.com/exploratory-data-analysis-eda-python-87178e35b14\n",
        "\n",
        "Data set disponível em: https://github.com/Kaushik-Varma/Marketing_Data_Analysis\n"
      ]
    },
    {
      "cell_type": "code",
      "metadata": {
        "id": "K_C0nOQd7hLU"
      },
      "source": [
        "import numpy as np\n",
        "import pandas as pd\n",
        "import seaborn as sns\n",
        "import matplotlib.pyplot as plt\n",
        "%matplotlib inline"
      ],
      "execution_count": 1,
      "outputs": []
    },
    {
      "cell_type": "code",
      "metadata": {
        "id": "NhZjUMxN-SOW",
        "outputId": "06887fde-f6b6-492d-882d-e0fdb1c7301e",
        "colab": {
          "base_uri": "https://localhost:8080/",
          "height": 660
        }
      },
      "source": [
        "data = pd.read_csv(\"https://raw.githubusercontent.com/Kaushik-Varma/Marketing_Data_Analysis/master/Marketing_Analysis.csv\")\n",
        "data"
      ],
      "execution_count": 2,
      "outputs": [
        {
          "output_type": "stream",
          "text": [
            "/usr/local/lib/python3.6/dist-packages/IPython/core/interactiveshell.py:2718: DtypeWarning: Columns (0,1,2,3,11,14,15,16) have mixed types.Specify dtype option on import or set low_memory=False.\n",
            "  interactivity=interactivity, compiler=compiler, result=result)\n"
          ],
          "name": "stderr"
        },
        {
          "output_type": "execute_result",
          "data": {
            "text/html": [
              "<div>\n",
              "<style scoped>\n",
              "    .dataframe tbody tr th:only-of-type {\n",
              "        vertical-align: middle;\n",
              "    }\n",
              "\n",
              "    .dataframe tbody tr th {\n",
              "        vertical-align: top;\n",
              "    }\n",
              "\n",
              "    .dataframe thead th {\n",
              "        text-align: right;\n",
              "    }\n",
              "</style>\n",
              "<table border=\"1\" class=\"dataframe\">\n",
              "  <thead>\n",
              "    <tr style=\"text-align: right;\">\n",
              "      <th></th>\n",
              "      <th>banking marketing</th>\n",
              "      <th>Unnamed: 1</th>\n",
              "      <th>Unnamed: 2</th>\n",
              "      <th>Unnamed: 3</th>\n",
              "      <th>Unnamed: 4</th>\n",
              "      <th>Unnamed: 5</th>\n",
              "      <th>Unnamed: 6</th>\n",
              "      <th>Unnamed: 7</th>\n",
              "      <th>Unnamed: 8</th>\n",
              "      <th>Unnamed: 9</th>\n",
              "      <th>Unnamed: 10</th>\n",
              "      <th>Unnamed: 11</th>\n",
              "      <th>Unnamed: 12</th>\n",
              "      <th>Unnamed: 13</th>\n",
              "      <th>Unnamed: 14</th>\n",
              "      <th>Unnamed: 15</th>\n",
              "      <th>Unnamed: 16</th>\n",
              "      <th>Unnamed: 17</th>\n",
              "      <th>Unnamed: 18</th>\n",
              "    </tr>\n",
              "  </thead>\n",
              "  <tbody>\n",
              "    <tr>\n",
              "      <th>0</th>\n",
              "      <td>customer id and age.</td>\n",
              "      <td>NaN</td>\n",
              "      <td>Customer salary and balance.</td>\n",
              "      <td>NaN</td>\n",
              "      <td>Customer marital status and job with education...</td>\n",
              "      <td>NaN</td>\n",
              "      <td>particular customer before targeted or not</td>\n",
              "      <td>NaN</td>\n",
              "      <td>Loan types: loans or housing loans</td>\n",
              "      <td>NaN</td>\n",
              "      <td>Contact type</td>\n",
              "      <td>NaN</td>\n",
              "      <td>month of contact</td>\n",
              "      <td>duration of call</td>\n",
              "      <td>NaN</td>\n",
              "      <td>NaN</td>\n",
              "      <td>NaN</td>\n",
              "      <td>outcome of previous contact</td>\n",
              "      <td>response of customer after call happned</td>\n",
              "    </tr>\n",
              "    <tr>\n",
              "      <th>1</th>\n",
              "      <td>customerid</td>\n",
              "      <td>age</td>\n",
              "      <td>salary</td>\n",
              "      <td>balance</td>\n",
              "      <td>marital</td>\n",
              "      <td>jobedu</td>\n",
              "      <td>targeted</td>\n",
              "      <td>default</td>\n",
              "      <td>housing</td>\n",
              "      <td>loan</td>\n",
              "      <td>contact</td>\n",
              "      <td>day</td>\n",
              "      <td>month</td>\n",
              "      <td>duration</td>\n",
              "      <td>campaign</td>\n",
              "      <td>pdays</td>\n",
              "      <td>previous</td>\n",
              "      <td>poutcome</td>\n",
              "      <td>response</td>\n",
              "    </tr>\n",
              "    <tr>\n",
              "      <th>2</th>\n",
              "      <td>1</td>\n",
              "      <td>58</td>\n",
              "      <td>100000</td>\n",
              "      <td>2143</td>\n",
              "      <td>married</td>\n",
              "      <td>management,tertiary</td>\n",
              "      <td>yes</td>\n",
              "      <td>no</td>\n",
              "      <td>yes</td>\n",
              "      <td>no</td>\n",
              "      <td>unknown</td>\n",
              "      <td>5</td>\n",
              "      <td>may, 2017</td>\n",
              "      <td>261 sec</td>\n",
              "      <td>1</td>\n",
              "      <td>-1</td>\n",
              "      <td>0</td>\n",
              "      <td>unknown</td>\n",
              "      <td>no</td>\n",
              "    </tr>\n",
              "    <tr>\n",
              "      <th>3</th>\n",
              "      <td>2</td>\n",
              "      <td>44</td>\n",
              "      <td>60000</td>\n",
              "      <td>29</td>\n",
              "      <td>single</td>\n",
              "      <td>technician,secondary</td>\n",
              "      <td>yes</td>\n",
              "      <td>no</td>\n",
              "      <td>yes</td>\n",
              "      <td>no</td>\n",
              "      <td>unknown</td>\n",
              "      <td>5</td>\n",
              "      <td>may, 2017</td>\n",
              "      <td>151 sec</td>\n",
              "      <td>1</td>\n",
              "      <td>-1</td>\n",
              "      <td>0</td>\n",
              "      <td>unknown</td>\n",
              "      <td>no</td>\n",
              "    </tr>\n",
              "    <tr>\n",
              "      <th>4</th>\n",
              "      <td>3</td>\n",
              "      <td>33</td>\n",
              "      <td>120000</td>\n",
              "      <td>2</td>\n",
              "      <td>married</td>\n",
              "      <td>entrepreneur,secondary</td>\n",
              "      <td>yes</td>\n",
              "      <td>no</td>\n",
              "      <td>yes</td>\n",
              "      <td>yes</td>\n",
              "      <td>unknown</td>\n",
              "      <td>5</td>\n",
              "      <td>may, 2017</td>\n",
              "      <td>76 sec</td>\n",
              "      <td>1</td>\n",
              "      <td>-1</td>\n",
              "      <td>0</td>\n",
              "      <td>unknown</td>\n",
              "      <td>no</td>\n",
              "    </tr>\n",
              "    <tr>\n",
              "      <th>...</th>\n",
              "      <td>...</td>\n",
              "      <td>...</td>\n",
              "      <td>...</td>\n",
              "      <td>...</td>\n",
              "      <td>...</td>\n",
              "      <td>...</td>\n",
              "      <td>...</td>\n",
              "      <td>...</td>\n",
              "      <td>...</td>\n",
              "      <td>...</td>\n",
              "      <td>...</td>\n",
              "      <td>...</td>\n",
              "      <td>...</td>\n",
              "      <td>...</td>\n",
              "      <td>...</td>\n",
              "      <td>...</td>\n",
              "      <td>...</td>\n",
              "      <td>...</td>\n",
              "      <td>...</td>\n",
              "    </tr>\n",
              "    <tr>\n",
              "      <th>45208</th>\n",
              "      <td>45207</td>\n",
              "      <td>51</td>\n",
              "      <td>60000</td>\n",
              "      <td>825</td>\n",
              "      <td>married</td>\n",
              "      <td>technician,tertiary</td>\n",
              "      <td>yes</td>\n",
              "      <td>no</td>\n",
              "      <td>no</td>\n",
              "      <td>no</td>\n",
              "      <td>cellular</td>\n",
              "      <td>17</td>\n",
              "      <td>nov, 2017</td>\n",
              "      <td>16.2833333333333 min</td>\n",
              "      <td>3</td>\n",
              "      <td>-1</td>\n",
              "      <td>0</td>\n",
              "      <td>unknown</td>\n",
              "      <td>yes</td>\n",
              "    </tr>\n",
              "    <tr>\n",
              "      <th>45209</th>\n",
              "      <td>45208</td>\n",
              "      <td>71</td>\n",
              "      <td>55000</td>\n",
              "      <td>1729</td>\n",
              "      <td>divorced</td>\n",
              "      <td>retired,primary</td>\n",
              "      <td>yes</td>\n",
              "      <td>no</td>\n",
              "      <td>no</td>\n",
              "      <td>no</td>\n",
              "      <td>cellular</td>\n",
              "      <td>17</td>\n",
              "      <td>nov, 2017</td>\n",
              "      <td>7.6 min</td>\n",
              "      <td>2</td>\n",
              "      <td>-1</td>\n",
              "      <td>0</td>\n",
              "      <td>unknown</td>\n",
              "      <td>yes</td>\n",
              "    </tr>\n",
              "    <tr>\n",
              "      <th>45210</th>\n",
              "      <td>45209</td>\n",
              "      <td>72</td>\n",
              "      <td>55000</td>\n",
              "      <td>5715</td>\n",
              "      <td>married</td>\n",
              "      <td>retired,secondary</td>\n",
              "      <td>yes</td>\n",
              "      <td>no</td>\n",
              "      <td>no</td>\n",
              "      <td>no</td>\n",
              "      <td>cellular</td>\n",
              "      <td>17</td>\n",
              "      <td>nov, 2017</td>\n",
              "      <td>18.7833333333333 min</td>\n",
              "      <td>5</td>\n",
              "      <td>184</td>\n",
              "      <td>3</td>\n",
              "      <td>success</td>\n",
              "      <td>yes</td>\n",
              "    </tr>\n",
              "    <tr>\n",
              "      <th>45211</th>\n",
              "      <td>45210</td>\n",
              "      <td>57</td>\n",
              "      <td>20000</td>\n",
              "      <td>668</td>\n",
              "      <td>married</td>\n",
              "      <td>blue-collar,secondary</td>\n",
              "      <td>yes</td>\n",
              "      <td>no</td>\n",
              "      <td>no</td>\n",
              "      <td>no</td>\n",
              "      <td>telephone</td>\n",
              "      <td>17</td>\n",
              "      <td>nov, 2017</td>\n",
              "      <td>8.46666666666667 min</td>\n",
              "      <td>4</td>\n",
              "      <td>-1</td>\n",
              "      <td>0</td>\n",
              "      <td>unknown</td>\n",
              "      <td>no</td>\n",
              "    </tr>\n",
              "    <tr>\n",
              "      <th>45212</th>\n",
              "      <td>45211</td>\n",
              "      <td>37</td>\n",
              "      <td>120000</td>\n",
              "      <td>2971</td>\n",
              "      <td>married</td>\n",
              "      <td>entrepreneur,secondary</td>\n",
              "      <td>yes</td>\n",
              "      <td>no</td>\n",
              "      <td>no</td>\n",
              "      <td>no</td>\n",
              "      <td>cellular</td>\n",
              "      <td>17</td>\n",
              "      <td>nov, 2017</td>\n",
              "      <td>6.01666666666667 min</td>\n",
              "      <td>2</td>\n",
              "      <td>188</td>\n",
              "      <td>11</td>\n",
              "      <td>other</td>\n",
              "      <td>no</td>\n",
              "    </tr>\n",
              "  </tbody>\n",
              "</table>\n",
              "<p>45213 rows × 19 columns</p>\n",
              "</div>"
            ],
            "text/plain": [
              "          banking marketing  ...                              Unnamed: 18\n",
              "0      customer id and age.  ...  response of customer after call happned\n",
              "1                customerid  ...                                 response\n",
              "2                         1  ...                                       no\n",
              "3                         2  ...                                       no\n",
              "4                         3  ...                                       no\n",
              "...                     ...  ...                                      ...\n",
              "45208                 45207  ...                                      yes\n",
              "45209                 45208  ...                                      yes\n",
              "45210                 45209  ...                                      yes\n",
              "45211                 45210  ...                                       no\n",
              "45212                 45211  ...                                       no\n",
              "\n",
              "[45213 rows x 19 columns]"
            ]
          },
          "metadata": {
            "tags": []
          },
          "execution_count": 2
        }
      ]
    },
    {
      "cell_type": "markdown",
      "metadata": {
        "id": "QByfgb5K-yHU"
      },
      "source": [
        "Percebe-se que as duas primeiras linhas possuem uma discrepância na forma que os dados são apresentados, portanto os dados serão lidos novamente ignorando essas duas linhas."
      ]
    },
    {
      "cell_type": "code",
      "metadata": {
        "id": "4AvOEIH_-WDG",
        "outputId": "5cdb182b-eb3f-4e3d-8804-e0ca7ebe2b65",
        "colab": {
          "base_uri": "https://localhost:8080/",
          "height": 301
        }
      },
      "source": [
        "data = pd.read_csv(\"https://raw.githubusercontent.com/Kaushik-Varma/Marketing_Data_Analysis/master/Marketing_Analysis.csv\", skiprows = 2)\n",
        "data.head()"
      ],
      "execution_count": 3,
      "outputs": [
        {
          "output_type": "execute_result",
          "data": {
            "text/html": [
              "<div>\n",
              "<style scoped>\n",
              "    .dataframe tbody tr th:only-of-type {\n",
              "        vertical-align: middle;\n",
              "    }\n",
              "\n",
              "    .dataframe tbody tr th {\n",
              "        vertical-align: top;\n",
              "    }\n",
              "\n",
              "    .dataframe thead th {\n",
              "        text-align: right;\n",
              "    }\n",
              "</style>\n",
              "<table border=\"1\" class=\"dataframe\">\n",
              "  <thead>\n",
              "    <tr style=\"text-align: right;\">\n",
              "      <th></th>\n",
              "      <th>customerid</th>\n",
              "      <th>age</th>\n",
              "      <th>salary</th>\n",
              "      <th>balance</th>\n",
              "      <th>marital</th>\n",
              "      <th>jobedu</th>\n",
              "      <th>targeted</th>\n",
              "      <th>default</th>\n",
              "      <th>housing</th>\n",
              "      <th>loan</th>\n",
              "      <th>contact</th>\n",
              "      <th>day</th>\n",
              "      <th>month</th>\n",
              "      <th>duration</th>\n",
              "      <th>campaign</th>\n",
              "      <th>pdays</th>\n",
              "      <th>previous</th>\n",
              "      <th>poutcome</th>\n",
              "      <th>response</th>\n",
              "    </tr>\n",
              "  </thead>\n",
              "  <tbody>\n",
              "    <tr>\n",
              "      <th>0</th>\n",
              "      <td>1</td>\n",
              "      <td>58.0</td>\n",
              "      <td>100000</td>\n",
              "      <td>2143</td>\n",
              "      <td>married</td>\n",
              "      <td>management,tertiary</td>\n",
              "      <td>yes</td>\n",
              "      <td>no</td>\n",
              "      <td>yes</td>\n",
              "      <td>no</td>\n",
              "      <td>unknown</td>\n",
              "      <td>5</td>\n",
              "      <td>may, 2017</td>\n",
              "      <td>261 sec</td>\n",
              "      <td>1</td>\n",
              "      <td>-1</td>\n",
              "      <td>0</td>\n",
              "      <td>unknown</td>\n",
              "      <td>no</td>\n",
              "    </tr>\n",
              "    <tr>\n",
              "      <th>1</th>\n",
              "      <td>2</td>\n",
              "      <td>44.0</td>\n",
              "      <td>60000</td>\n",
              "      <td>29</td>\n",
              "      <td>single</td>\n",
              "      <td>technician,secondary</td>\n",
              "      <td>yes</td>\n",
              "      <td>no</td>\n",
              "      <td>yes</td>\n",
              "      <td>no</td>\n",
              "      <td>unknown</td>\n",
              "      <td>5</td>\n",
              "      <td>may, 2017</td>\n",
              "      <td>151 sec</td>\n",
              "      <td>1</td>\n",
              "      <td>-1</td>\n",
              "      <td>0</td>\n",
              "      <td>unknown</td>\n",
              "      <td>no</td>\n",
              "    </tr>\n",
              "    <tr>\n",
              "      <th>2</th>\n",
              "      <td>3</td>\n",
              "      <td>33.0</td>\n",
              "      <td>120000</td>\n",
              "      <td>2</td>\n",
              "      <td>married</td>\n",
              "      <td>entrepreneur,secondary</td>\n",
              "      <td>yes</td>\n",
              "      <td>no</td>\n",
              "      <td>yes</td>\n",
              "      <td>yes</td>\n",
              "      <td>unknown</td>\n",
              "      <td>5</td>\n",
              "      <td>may, 2017</td>\n",
              "      <td>76 sec</td>\n",
              "      <td>1</td>\n",
              "      <td>-1</td>\n",
              "      <td>0</td>\n",
              "      <td>unknown</td>\n",
              "      <td>no</td>\n",
              "    </tr>\n",
              "    <tr>\n",
              "      <th>3</th>\n",
              "      <td>4</td>\n",
              "      <td>47.0</td>\n",
              "      <td>20000</td>\n",
              "      <td>1506</td>\n",
              "      <td>married</td>\n",
              "      <td>blue-collar,unknown</td>\n",
              "      <td>no</td>\n",
              "      <td>no</td>\n",
              "      <td>yes</td>\n",
              "      <td>no</td>\n",
              "      <td>unknown</td>\n",
              "      <td>5</td>\n",
              "      <td>may, 2017</td>\n",
              "      <td>92 sec</td>\n",
              "      <td>1</td>\n",
              "      <td>-1</td>\n",
              "      <td>0</td>\n",
              "      <td>unknown</td>\n",
              "      <td>no</td>\n",
              "    </tr>\n",
              "    <tr>\n",
              "      <th>4</th>\n",
              "      <td>5</td>\n",
              "      <td>33.0</td>\n",
              "      <td>0</td>\n",
              "      <td>1</td>\n",
              "      <td>single</td>\n",
              "      <td>unknown,unknown</td>\n",
              "      <td>no</td>\n",
              "      <td>no</td>\n",
              "      <td>no</td>\n",
              "      <td>no</td>\n",
              "      <td>unknown</td>\n",
              "      <td>5</td>\n",
              "      <td>may, 2017</td>\n",
              "      <td>198 sec</td>\n",
              "      <td>1</td>\n",
              "      <td>-1</td>\n",
              "      <td>0</td>\n",
              "      <td>unknown</td>\n",
              "      <td>no</td>\n",
              "    </tr>\n",
              "  </tbody>\n",
              "</table>\n",
              "</div>"
            ],
            "text/plain": [
              "   customerid   age  salary  balance  ... pdays previous poutcome response\n",
              "0           1  58.0  100000     2143  ...    -1        0  unknown       no\n",
              "1           2  44.0   60000       29  ...    -1        0  unknown       no\n",
              "2           3  33.0  120000        2  ...    -1        0  unknown       no\n",
              "3           4  47.0   20000     1506  ...    -1        0  unknown       no\n",
              "4           5  33.0       0        1  ...    -1        0  unknown       no\n",
              "\n",
              "[5 rows x 19 columns]"
            ]
          },
          "metadata": {
            "tags": []
          },
          "execution_count": 3
        }
      ]
    },
    {
      "cell_type": "markdown",
      "metadata": {
        "id": "0oo4DIYgCUgf"
      },
      "source": [
        "Ao analisar o conjunto de dados percebe que a coluna \"customerid\" não tem utilidade, portanto será feita a retirada dela. E a coluna \"jobedu\" será dividia em \"job\" e \"educacation\" visto que ela está fornecendo duas informações em uma coluna só, ao dividir irá facilitar a visualização e análises. "
      ]
    },
    {
      "cell_type": "code",
      "metadata": {
        "id": "OzvhU9bm_D-4",
        "outputId": "8da5b086-994a-4102-bdfb-46f6f6154bbc",
        "colab": {
          "base_uri": "https://localhost:8080/",
          "height": 593
        }
      },
      "source": [
        "data.drop('customerid', axis = 1, inplace = True)\n",
        "data['job'] = data['jobedu'].apply(lambda x: x.split(',')[0])\n",
        "data['education'] = data['jobedu'].apply(lambda x: x.split(',')[1])\n",
        "data.drop('jobedu', axis = 1, inplace = True)\n",
        "data"
      ],
      "execution_count": 4,
      "outputs": [
        {
          "output_type": "execute_result",
          "data": {
            "text/html": [
              "<div>\n",
              "<style scoped>\n",
              "    .dataframe tbody tr th:only-of-type {\n",
              "        vertical-align: middle;\n",
              "    }\n",
              "\n",
              "    .dataframe tbody tr th {\n",
              "        vertical-align: top;\n",
              "    }\n",
              "\n",
              "    .dataframe thead th {\n",
              "        text-align: right;\n",
              "    }\n",
              "</style>\n",
              "<table border=\"1\" class=\"dataframe\">\n",
              "  <thead>\n",
              "    <tr style=\"text-align: right;\">\n",
              "      <th></th>\n",
              "      <th>age</th>\n",
              "      <th>salary</th>\n",
              "      <th>balance</th>\n",
              "      <th>marital</th>\n",
              "      <th>targeted</th>\n",
              "      <th>default</th>\n",
              "      <th>housing</th>\n",
              "      <th>loan</th>\n",
              "      <th>contact</th>\n",
              "      <th>day</th>\n",
              "      <th>month</th>\n",
              "      <th>duration</th>\n",
              "      <th>campaign</th>\n",
              "      <th>pdays</th>\n",
              "      <th>previous</th>\n",
              "      <th>poutcome</th>\n",
              "      <th>response</th>\n",
              "      <th>job</th>\n",
              "      <th>education</th>\n",
              "    </tr>\n",
              "  </thead>\n",
              "  <tbody>\n",
              "    <tr>\n",
              "      <th>0</th>\n",
              "      <td>58.0</td>\n",
              "      <td>100000</td>\n",
              "      <td>2143</td>\n",
              "      <td>married</td>\n",
              "      <td>yes</td>\n",
              "      <td>no</td>\n",
              "      <td>yes</td>\n",
              "      <td>no</td>\n",
              "      <td>unknown</td>\n",
              "      <td>5</td>\n",
              "      <td>may, 2017</td>\n",
              "      <td>261 sec</td>\n",
              "      <td>1</td>\n",
              "      <td>-1</td>\n",
              "      <td>0</td>\n",
              "      <td>unknown</td>\n",
              "      <td>no</td>\n",
              "      <td>management</td>\n",
              "      <td>tertiary</td>\n",
              "    </tr>\n",
              "    <tr>\n",
              "      <th>1</th>\n",
              "      <td>44.0</td>\n",
              "      <td>60000</td>\n",
              "      <td>29</td>\n",
              "      <td>single</td>\n",
              "      <td>yes</td>\n",
              "      <td>no</td>\n",
              "      <td>yes</td>\n",
              "      <td>no</td>\n",
              "      <td>unknown</td>\n",
              "      <td>5</td>\n",
              "      <td>may, 2017</td>\n",
              "      <td>151 sec</td>\n",
              "      <td>1</td>\n",
              "      <td>-1</td>\n",
              "      <td>0</td>\n",
              "      <td>unknown</td>\n",
              "      <td>no</td>\n",
              "      <td>technician</td>\n",
              "      <td>secondary</td>\n",
              "    </tr>\n",
              "    <tr>\n",
              "      <th>2</th>\n",
              "      <td>33.0</td>\n",
              "      <td>120000</td>\n",
              "      <td>2</td>\n",
              "      <td>married</td>\n",
              "      <td>yes</td>\n",
              "      <td>no</td>\n",
              "      <td>yes</td>\n",
              "      <td>yes</td>\n",
              "      <td>unknown</td>\n",
              "      <td>5</td>\n",
              "      <td>may, 2017</td>\n",
              "      <td>76 sec</td>\n",
              "      <td>1</td>\n",
              "      <td>-1</td>\n",
              "      <td>0</td>\n",
              "      <td>unknown</td>\n",
              "      <td>no</td>\n",
              "      <td>entrepreneur</td>\n",
              "      <td>secondary</td>\n",
              "    </tr>\n",
              "    <tr>\n",
              "      <th>3</th>\n",
              "      <td>47.0</td>\n",
              "      <td>20000</td>\n",
              "      <td>1506</td>\n",
              "      <td>married</td>\n",
              "      <td>no</td>\n",
              "      <td>no</td>\n",
              "      <td>yes</td>\n",
              "      <td>no</td>\n",
              "      <td>unknown</td>\n",
              "      <td>5</td>\n",
              "      <td>may, 2017</td>\n",
              "      <td>92 sec</td>\n",
              "      <td>1</td>\n",
              "      <td>-1</td>\n",
              "      <td>0</td>\n",
              "      <td>unknown</td>\n",
              "      <td>no</td>\n",
              "      <td>blue-collar</td>\n",
              "      <td>unknown</td>\n",
              "    </tr>\n",
              "    <tr>\n",
              "      <th>4</th>\n",
              "      <td>33.0</td>\n",
              "      <td>0</td>\n",
              "      <td>1</td>\n",
              "      <td>single</td>\n",
              "      <td>no</td>\n",
              "      <td>no</td>\n",
              "      <td>no</td>\n",
              "      <td>no</td>\n",
              "      <td>unknown</td>\n",
              "      <td>5</td>\n",
              "      <td>may, 2017</td>\n",
              "      <td>198 sec</td>\n",
              "      <td>1</td>\n",
              "      <td>-1</td>\n",
              "      <td>0</td>\n",
              "      <td>unknown</td>\n",
              "      <td>no</td>\n",
              "      <td>unknown</td>\n",
              "      <td>unknown</td>\n",
              "    </tr>\n",
              "    <tr>\n",
              "      <th>...</th>\n",
              "      <td>...</td>\n",
              "      <td>...</td>\n",
              "      <td>...</td>\n",
              "      <td>...</td>\n",
              "      <td>...</td>\n",
              "      <td>...</td>\n",
              "      <td>...</td>\n",
              "      <td>...</td>\n",
              "      <td>...</td>\n",
              "      <td>...</td>\n",
              "      <td>...</td>\n",
              "      <td>...</td>\n",
              "      <td>...</td>\n",
              "      <td>...</td>\n",
              "      <td>...</td>\n",
              "      <td>...</td>\n",
              "      <td>...</td>\n",
              "      <td>...</td>\n",
              "      <td>...</td>\n",
              "    </tr>\n",
              "    <tr>\n",
              "      <th>45206</th>\n",
              "      <td>51.0</td>\n",
              "      <td>60000</td>\n",
              "      <td>825</td>\n",
              "      <td>married</td>\n",
              "      <td>yes</td>\n",
              "      <td>no</td>\n",
              "      <td>no</td>\n",
              "      <td>no</td>\n",
              "      <td>cellular</td>\n",
              "      <td>17</td>\n",
              "      <td>nov, 2017</td>\n",
              "      <td>16.2833333333333 min</td>\n",
              "      <td>3</td>\n",
              "      <td>-1</td>\n",
              "      <td>0</td>\n",
              "      <td>unknown</td>\n",
              "      <td>yes</td>\n",
              "      <td>technician</td>\n",
              "      <td>tertiary</td>\n",
              "    </tr>\n",
              "    <tr>\n",
              "      <th>45207</th>\n",
              "      <td>71.0</td>\n",
              "      <td>55000</td>\n",
              "      <td>1729</td>\n",
              "      <td>divorced</td>\n",
              "      <td>yes</td>\n",
              "      <td>no</td>\n",
              "      <td>no</td>\n",
              "      <td>no</td>\n",
              "      <td>cellular</td>\n",
              "      <td>17</td>\n",
              "      <td>nov, 2017</td>\n",
              "      <td>7.6 min</td>\n",
              "      <td>2</td>\n",
              "      <td>-1</td>\n",
              "      <td>0</td>\n",
              "      <td>unknown</td>\n",
              "      <td>yes</td>\n",
              "      <td>retired</td>\n",
              "      <td>primary</td>\n",
              "    </tr>\n",
              "    <tr>\n",
              "      <th>45208</th>\n",
              "      <td>72.0</td>\n",
              "      <td>55000</td>\n",
              "      <td>5715</td>\n",
              "      <td>married</td>\n",
              "      <td>yes</td>\n",
              "      <td>no</td>\n",
              "      <td>no</td>\n",
              "      <td>no</td>\n",
              "      <td>cellular</td>\n",
              "      <td>17</td>\n",
              "      <td>nov, 2017</td>\n",
              "      <td>18.7833333333333 min</td>\n",
              "      <td>5</td>\n",
              "      <td>184</td>\n",
              "      <td>3</td>\n",
              "      <td>success</td>\n",
              "      <td>yes</td>\n",
              "      <td>retired</td>\n",
              "      <td>secondary</td>\n",
              "    </tr>\n",
              "    <tr>\n",
              "      <th>45209</th>\n",
              "      <td>57.0</td>\n",
              "      <td>20000</td>\n",
              "      <td>668</td>\n",
              "      <td>married</td>\n",
              "      <td>yes</td>\n",
              "      <td>no</td>\n",
              "      <td>no</td>\n",
              "      <td>no</td>\n",
              "      <td>telephone</td>\n",
              "      <td>17</td>\n",
              "      <td>nov, 2017</td>\n",
              "      <td>8.46666666666667 min</td>\n",
              "      <td>4</td>\n",
              "      <td>-1</td>\n",
              "      <td>0</td>\n",
              "      <td>unknown</td>\n",
              "      <td>no</td>\n",
              "      <td>blue-collar</td>\n",
              "      <td>secondary</td>\n",
              "    </tr>\n",
              "    <tr>\n",
              "      <th>45210</th>\n",
              "      <td>37.0</td>\n",
              "      <td>120000</td>\n",
              "      <td>2971</td>\n",
              "      <td>married</td>\n",
              "      <td>yes</td>\n",
              "      <td>no</td>\n",
              "      <td>no</td>\n",
              "      <td>no</td>\n",
              "      <td>cellular</td>\n",
              "      <td>17</td>\n",
              "      <td>nov, 2017</td>\n",
              "      <td>6.01666666666667 min</td>\n",
              "      <td>2</td>\n",
              "      <td>188</td>\n",
              "      <td>11</td>\n",
              "      <td>other</td>\n",
              "      <td>no</td>\n",
              "      <td>entrepreneur</td>\n",
              "      <td>secondary</td>\n",
              "    </tr>\n",
              "  </tbody>\n",
              "</table>\n",
              "<p>45211 rows × 19 columns</p>\n",
              "</div>"
            ],
            "text/plain": [
              "        age  salary  balance  ... response           job  education\n",
              "0      58.0  100000     2143  ...       no    management   tertiary\n",
              "1      44.0   60000       29  ...       no    technician  secondary\n",
              "2      33.0  120000        2  ...       no  entrepreneur  secondary\n",
              "3      47.0   20000     1506  ...       no   blue-collar    unknown\n",
              "4      33.0       0        1  ...       no       unknown    unknown\n",
              "...     ...     ...      ...  ...      ...           ...        ...\n",
              "45206  51.0   60000      825  ...      yes    technician   tertiary\n",
              "45207  71.0   55000     1729  ...      yes       retired    primary\n",
              "45208  72.0   55000     5715  ...      yes       retired  secondary\n",
              "45209  57.0   20000      668  ...       no   blue-collar  secondary\n",
              "45210  37.0  120000     2971  ...       no  entrepreneur  secondary\n",
              "\n",
              "[45211 rows x 19 columns]"
            ]
          },
          "metadata": {
            "tags": []
          },
          "execution_count": 4
        }
      ]
    },
    {
      "cell_type": "markdown",
      "metadata": {
        "id": "Ust5X0RlFlI8"
      },
      "source": [
        "## Missing values"
      ]
    },
    {
      "cell_type": "markdown",
      "metadata": {
        "id": "KPtMsxXwDkv3"
      },
      "source": [
        "É necessário descobrir se há colunas que possue dados nulos e se houver, qual coluna é."
      ]
    },
    {
      "cell_type": "code",
      "metadata": {
        "id": "YwGgBzxyCMX8",
        "outputId": "7ccdfc6d-9bb1-4e6c-9ce9-349e9dc7ba01",
        "colab": {
          "base_uri": "https://localhost:8080/"
        }
      },
      "source": [
        "data.isnull().sum()"
      ],
      "execution_count": 5,
      "outputs": [
        {
          "output_type": "execute_result",
          "data": {
            "text/plain": [
              "age          20\n",
              "salary        0\n",
              "balance       0\n",
              "marital       0\n",
              "targeted      0\n",
              "default       0\n",
              "housing       0\n",
              "loan          0\n",
              "contact       0\n",
              "day           0\n",
              "month        50\n",
              "duration      0\n",
              "campaign      0\n",
              "pdays         0\n",
              "previous      0\n",
              "poutcome      0\n",
              "response     30\n",
              "job           0\n",
              "education     0\n",
              "dtype: int64"
            ]
          },
          "metadata": {
            "tags": []
          },
          "execution_count": 5
        }
      ]
    },
    {
      "cell_type": "markdown",
      "metadata": {
        "id": "ZoH5LZEoDx7F"
      },
      "source": [
        "Percebe-se que há três colunas que possuem valores perdidos, para resolver isso poderá retirar eles ou substituir por outros valores (desde que isso não interfira na análise)."
      ]
    },
    {
      "cell_type": "code",
      "metadata": {
        "id": "j9c7muQrDt_o",
        "outputId": "a680a1fd-c859-45d8-ca11-f73cb9f554f0",
        "colab": {
          "base_uri": "https://localhost:8080/"
        }
      },
      "source": [
        "data = data[~data.age.isnull()].copy()\n",
        "data.isnull().sum()"
      ],
      "execution_count": 6,
      "outputs": [
        {
          "output_type": "execute_result",
          "data": {
            "text/plain": [
              "age           0\n",
              "salary        0\n",
              "balance       0\n",
              "marital       0\n",
              "targeted      0\n",
              "default       0\n",
              "housing       0\n",
              "loan          0\n",
              "contact       0\n",
              "day           0\n",
              "month        50\n",
              "duration      0\n",
              "campaign      0\n",
              "pdays         0\n",
              "previous      0\n",
              "poutcome      0\n",
              "response     30\n",
              "job           0\n",
              "education     0\n",
              "dtype: int64"
            ]
          },
          "metadata": {
            "tags": []
          },
          "execution_count": 6
        }
      ]
    },
    {
      "cell_type": "markdown",
      "metadata": {
        "id": "iCo2caWnEkkc"
      },
      "source": [
        "Visto que a coluna \"month\" possui objetos irá ser feito o cálculo do \"mode\" dela e a troca pelos valores nulos."
      ]
    },
    {
      "cell_type": "code",
      "metadata": {
        "id": "VmwBdIhvEOaK",
        "outputId": "64026d95-c088-4655-c21a-76ca91fa8e06",
        "colab": {
          "base_uri": "https://localhost:8080/"
        }
      },
      "source": [
        "month_mode = data.month.mode()[0]\n",
        "data.month.fillna(month_mode, inplace = True)\n",
        "data.month.isnull().sum()"
      ],
      "execution_count": 7,
      "outputs": [
        {
          "output_type": "execute_result",
          "data": {
            "text/plain": [
              "0"
            ]
          },
          "metadata": {
            "tags": []
          },
          "execution_count": 7
        }
      ]
    },
    {
      "cell_type": "markdown",
      "metadata": {
        "id": "a2Us2lgBFAbP"
      },
      "source": [
        "Já para a coluna \"response\" é melhor fazer a retirada dos dados faltantes visto que colocar outros dados pode afetar a análise."
      ]
    },
    {
      "cell_type": "code",
      "metadata": {
        "id": "mJ6Jq77iEjlx",
        "outputId": "b095eeff-6099-4270-8dec-6c2a72c2529e",
        "colab": {
          "base_uri": "https://localhost:8080/"
        }
      },
      "source": [
        "data = data[~data.response.isnull()].copy()\n",
        "data.isnull().sum()"
      ],
      "execution_count": 8,
      "outputs": [
        {
          "output_type": "execute_result",
          "data": {
            "text/plain": [
              "age          0\n",
              "salary       0\n",
              "balance      0\n",
              "marital      0\n",
              "targeted     0\n",
              "default      0\n",
              "housing      0\n",
              "loan         0\n",
              "contact      0\n",
              "day          0\n",
              "month        0\n",
              "duration     0\n",
              "campaign     0\n",
              "pdays        0\n",
              "previous     0\n",
              "poutcome     0\n",
              "response     0\n",
              "job          0\n",
              "education    0\n",
              "dtype: int64"
            ]
          },
          "metadata": {
            "tags": []
          },
          "execution_count": 8
        }
      ]
    },
    {
      "cell_type": "markdown",
      "metadata": {
        "id": "1Xd_ibPjFq-r"
      },
      "source": [
        "## Análise univariada\n",
        "\n",
        "A análise univariada é quando a análise de dados é feita em cima de apenas uma variável ou coluna."
      ]
    },
    {
      "cell_type": "markdown",
      "metadata": {
        "id": "NYaWMz-bw34Q"
      },
      "source": [
        "### Análise categórica univariada não ordenada \n",
        "\n",
        "Quando uma variável categórica não possui uma ordem definida e vai fazer uma análise sobre ela terá uma análise categórica univariada não ordenada . No dataset que está sendo utilizada possui a coluna \"job\", ela é um exemplo desse tipo de variável já que é dividida por subcategorias que não possuem peso umas sobre as outras."
      ]
    },
    {
      "cell_type": "code",
      "metadata": {
        "id": "OxTCyq5tFUEs",
        "outputId": "1cdecc3e-20e4-48b1-cd72-8319da63c6aa",
        "colab": {
          "base_uri": "https://localhost:8080/",
          "height": 481
        }
      },
      "source": [
        "print(data.job.value_counts(normalize = True))\n",
        "\n",
        "data.job.value_counts(normalize = True).plot.barh()\n",
        "plt.show()"
      ],
      "execution_count": 9,
      "outputs": [
        {
          "output_type": "stream",
          "text": [
            "blue-collar      0.215274\n",
            "management       0.209273\n",
            "technician       0.168043\n",
            "admin.           0.114369\n",
            "services         0.091849\n",
            "retired          0.050087\n",
            "self-employed    0.034853\n",
            "entrepreneur     0.032860\n",
            "unemployed       0.028830\n",
            "housemaid        0.027413\n",
            "student          0.020770\n",
            "unknown          0.006377\n",
            "Name: job, dtype: float64\n"
          ],
          "name": "stdout"
        },
        {
          "output_type": "display_data",
          "data": {
            "image/png": "[encoded data removed]",
            "text/plain": [
              "<Figure size 432x288 with 1 Axes>"
            ]
          },
          "metadata": {
            "tags": [],
            "needs_background": "light"
          }
        }
      ]
    },
    {
      "cell_type": "markdown",
      "metadata": {
        "id": "ynJa5FKgvz09"
      },
      "source": [
        "Percebe-se que com resultado das porcentagens de todas as subcategorias da coluna \"job\" é possível saber qual subcategoria tem o maior número de pessoas trabalhando nela, mas com o gráfico é muito mais visual e rápido, apenas batendo o olho é possível perceber qual é a subcategoria que possui mais empregados. Com isso percebe-se que as análises gráficas e a forma como mostrar os dados é de grande importância para que as pessoas possam entender com maior facilidade."
      ]
    },
    {
      "cell_type": "markdown",
      "metadata": {
        "id": "7Yzd5zeYxE3B"
      },
      "source": [
        "### Análise categórica univariada ordenada \n",
        "\n",
        "Variáveis ordenadas são as que possuem um rank natural de ordem, dentro do dataset que está sendo utilizado os meses são um exemplo dessas variáveis."
      ]
    },
    {
      "cell_type": "code",
      "metadata": {
        "id": "rLZPebCPtmRH",
        "outputId": "e96cc5a8-91c1-4729-ce22-97374683b9d7",
        "colab": {
          "base_uri": "https://localhost:8080/",
          "height": 331
        }
      },
      "source": [
        "print(data.education.value_counts(normalize = True))\n",
        "data.education.value_counts(normalize = True).plot.pie()\n",
        "plt.show()"
      ],
      "execution_count": 10,
      "outputs": [
        {
          "output_type": "stream",
          "text": [
            "secondary    0.513275\n",
            "tertiary     0.294192\n",
            "primary      0.151436\n",
            "unknown      0.041097\n",
            "Name: education, dtype: float64\n"
          ],
          "name": "stdout"
        },
        {
          "output_type": "display_data",
          "data": {
            "image/png": "[encoded data removed]",
            "text/plain": [
              "<Figure size 432x288 with 1 Axes>"
            ]
          },
          "metadata": {
            "tags": []
          }
        }
      ]
    },
    {
      "cell_type": "markdown",
      "metadata": {
        "id": "uT3IvKW2E9aI"
      },
      "source": [
        "Através da análise do gráfico de pizza percebe-se que o número de pessoas que percentem ao grupo de \"secondary\" é o maior de todos, seguido do \"terciário\".\n",
        "\n",
        "Um ponto muito importante a ser lembrado é que o gráfico de pizza, na maior parte das vezes, não é o mais recomendado para apresentar dados visto que é muito mais difícil analisar uma área circular tanto do ponto de vista visual quanto do ponto de vista númerico.\n",
        "\n",
        "---"
      ]
    },
    {
      "cell_type": "markdown",
      "metadata": {
        "id": "O7X_JCcRFn-Z"
      },
      "source": [
        "Se a coluna já for numérica pode-se analisar alguns outros parâmetros como a media, mediana, desvio padrão, entre outros. A função \".describe()\" é extremamente útil nisso, visto que ao utilizar ela os cálculos são realizados automaticamente. "
      ]
    },
    {
      "cell_type": "code",
      "metadata": {
        "id": "U-sHHZbSE3-E",
        "outputId": "8c492376-c33c-44fd-b9e9-d4ca53467058",
        "colab": {
          "base_uri": "https://localhost:8080/"
        }
      },
      "source": [
        "data.salary.describe()"
      ],
      "execution_count": 11,
      "outputs": [
        {
          "output_type": "execute_result",
          "data": {
            "text/plain": [
              "count     45161.000000\n",
              "mean      57004.849317\n",
              "std       32087.698810\n",
              "min           0.000000\n",
              "25%       20000.000000\n",
              "50%       60000.000000\n",
              "75%       70000.000000\n",
              "max      120000.000000\n",
              "Name: salary, dtype: float64"
            ]
          },
          "metadata": {
            "tags": []
          },
          "execution_count": 11
        }
      ]
    },
    {
      "cell_type": "markdown",
      "metadata": {
        "id": "CwsdVvSb3c_x"
      },
      "source": [
        "## Análise bivariada\n",
        "\n",
        "O nome já é bem intuitivo, análise bivariada é a anállise considerando duas variáveis ou coluna a partir de um mesmo conjunto de dados."
      ]
    },
    {
      "cell_type": "markdown",
      "metadata": {
        "id": "VcLb4M3v3zhU"
      },
      "source": [
        "### Análise numérica-numérica\n",
        "\n",
        "É a análise de duas variáveis que são numéricas. Essa análise pode ser feita de três formas: \n",
        "\n",
        "*   Scatter plot;\n",
        "*   Pair plot;\n",
        "*   Correlation matrix.\n"
      ]
    },
    {
      "cell_type": "markdown",
      "metadata": {
        "id": "e46BeWUc4lZD"
      },
      "source": [
        "**Scatter plot**"
      ]
    },
    {
      "cell_type": "code",
      "metadata": {
        "id": "osfxiK1VGDy2",
        "outputId": "d539bafd-68cb-466a-b767-7e3558144160",
        "colab": {
          "base_uri": "https://localhost:8080/",
          "height": 573
        }
      },
      "source": [
        "plt.scatter(data.salary, data.balance)\n",
        "plt.title('Salary x Balance')\n",
        "plt.xlabel('Salary')\n",
        "plt.ylabel('Balance')\n",
        "plt.show()\n",
        "\n",
        "data.plot.scatter(x = 'age', y = 'balance')\n",
        "plt.title('Age x Balance')\n",
        "plt.xlabel('Age')\n",
        "plt.ylabel('Balance')\n",
        "plt.show()"
      ],
      "execution_count": 18,
      "outputs": [
        {
          "output_type": "display_data",
          "data": {
            "image/png": "[encoded data removed]",
            "text/plain": [
              "<Figure size 432x288 with 1 Axes>"
            ]
          },
          "metadata": {
            "tags": [],
            "needs_background": "light"
          }
        },
        {
          "output_type": "display_data",
          "data": {
            "image/png": "[encoded data removed]",
            "text/plain": [
              "<Figure size 432x288 with 1 Axes>"
            ]
          },
          "metadata": {
            "tags": [],
            "needs_background": "light"
          }
        }
      ]
    },
    {
      "cell_type": "markdown",
      "metadata": {
        "id": "m_JOIk3m5pYe"
      },
      "source": [
        "**Pair plot**"
      ]
    },
    {
      "cell_type": "code",
      "metadata": {
        "id": "9CLlC6D-43FI",
        "outputId": "f32202f0-1150-42eb-f423-c5632ba8a2d0",
        "colab": {
          "base_uri": "https://localhost:8080/",
          "height": 550
        }
      },
      "source": [
        "sns.pairplot(data = data, vars = ['salary', 'balance', 'age'])\n",
        "plt.show()"
      ],
      "execution_count": 21,
      "outputs": [
        {
          "output_type": "display_data",
          "data": {
            "image/png": "[encoded data removed]",
            "text/plain": [
              "<Figure size 540x540 with 12 Axes>"
            ]
          },
          "metadata": {
            "tags": [],
            "needs_background": "light"
          }
        }
      ]
    },
    {
      "cell_type": "markdown",
      "metadata": {
        "id": "uC1QpeNh6He6"
      },
      "source": [
        "**Correlation Matrix**\n",
        "\n",
        "Visto que no *scatter plot* e no *pair plot* não se pode utilizar mais de duas variáveis no eixo x e y fica difícil ver a relação entre três variáveis númericas, para isso será utilizado o *correlation matrix*."
      ]
    },
    {
      "cell_type": "code",
      "metadata": {
        "id": "fv4xI-tC52MA",
        "outputId": "61a9316e-3b2b-478c-f557-151e85b59831",
        "colab": {
          "base_uri": "https://localhost:8080/",
          "height": 335
        }
      },
      "source": [
        "print(data[['age', 'salary', 'balance']].corr())\n",
        "sns.heatmap(data[['age', 'salary', 'balance']].corr(), annot=True, cmap = 'Reds')\n",
        "plt.show()"
      ],
      "execution_count": 23,
      "outputs": [
        {
          "output_type": "stream",
          "text": [
            "              age    salary   balance\n",
            "age      1.000000  0.024513  0.097710\n",
            "salary   0.024513  1.000000  0.055489\n",
            "balance  0.097710  0.055489  1.000000\n"
          ],
          "name": "stdout"
        },
        {
          "output_type": "display_data",
          "data": {
            "image/png": "[encoded data removed]",
            "text/plain": [
              "<Figure size 432x288 with 2 Axes>"
            ]
          },
          "metadata": {
            "tags": [],
            "needs_background": "light"
          }
        }
      ]
    },
    {
      "cell_type": "markdown",
      "metadata": {
        "id": "j9O0d2W17Wh9"
      },
      "source": [
        "### Análise categórica-numérica\n",
        "\n",
        "É a análise de uma variável numérica e uma variável categórica através de um conjunto de dados. Essa análise é feita utilizando principalmente média, mediana e o *box plot*."
      ]
    },
    {
      "cell_type": "markdown",
      "metadata": {
        "id": "_S1E7AkS8bJA"
      },
      "source": [
        "**Média**"
      ]
    },
    {
      "cell_type": "code",
      "metadata": {
        "id": "b6lXpyxI6dkp",
        "outputId": "53e119a8-0d9b-4ef3-e365-81ed6061c43e",
        "colab": {
          "base_uri": "https://localhost:8080/"
        }
      },
      "source": [
        "data.groupby('response')['salary'].mean()"
      ],
      "execution_count": 24,
      "outputs": [
        {
          "output_type": "execute_result",
          "data": {
            "text/plain": [
              "response\n",
              "no     56769.510482\n",
              "yes    58780.510880\n",
              "Name: salary, dtype: float64"
            ]
          },
          "metadata": {
            "tags": []
          },
          "execution_count": 24
        }
      ]
    },
    {
      "cell_type": "markdown",
      "metadata": {
        "id": "-MNyL8zg8dYP"
      },
      "source": [
        "**Mediana**"
      ]
    },
    {
      "cell_type": "code",
      "metadata": {
        "id": "mVf5ICWf8Wpl",
        "outputId": "c8575382-318f-4406-b288-d6c55adb9da9",
        "colab": {
          "base_uri": "https://localhost:8080/"
        }
      },
      "source": [
        "data.groupby('response')['salary'].median()"
      ],
      "execution_count": 25,
      "outputs": [
        {
          "output_type": "execute_result",
          "data": {
            "text/plain": [
              "response\n",
              "no     60000\n",
              "yes    60000\n",
              "Name: salary, dtype: int64"
            ]
          },
          "metadata": {
            "tags": []
          },
          "execution_count": 25
        }
      ]
    },
    {
      "cell_type": "markdown",
      "metadata": {
        "id": "cTMf6UWS85ak"
      },
      "source": [
        "**Box plot**\n",
        "\n",
        "O box plot ajuda na análise visual da média e da mediana.\n",
        "\n",
        "Pelo do gráfico gerado abaixo percebe-se que há uma diferença bem grande para as pessoas que responderam \"sim\" para as que responderam \"não\"."
      ]
    },
    {
      "cell_type": "code",
      "metadata": {
        "id": "3QKq1SUZ8gKf",
        "outputId": "2ac41082-125c-4db6-dc17-669d2756ed2e",
        "colab": {
          "base_uri": "https://localhost:8080/",
          "height": 332
        }
      },
      "source": [
        "sns.boxplot(data.response, data.salary)\n",
        "plt.show()"
      ],
      "execution_count": 27,
      "outputs": [
        {
          "output_type": "stream",
          "text": [
            "/usr/local/lib/python3.6/dist-packages/seaborn/_decorators.py:43: FutureWarning: Pass the following variables as keyword args: x, y. From version 0.12, the only valid positional argument will be `data`, and passing other arguments without an explicit keyword will result in an error or misinterpretation.\n",
            "  FutureWarning\n"
          ],
          "name": "stderr"
        },
        {
          "output_type": "display_data",
          "data": {
            "image/png": "[encoded data removed]",
            "text/plain": [
              "<Figure size 432x288 with 1 Axes>"
            ]
          },
          "metadata": {
            "tags": [],
            "needs_background": "light"
          }
        }
      ]
    },
    {
      "cell_type": "markdown",
      "metadata": {
        "id": "Gv2pKxJ09Xdc"
      },
      "source": [
        "### Análise categórica-categórica"
      ]
    },
    {
      "cell_type": "code",
      "metadata": {
        "id": "hoCSPYwt8qkh",
        "outputId": "5d655b68-aed5-412e-f20c-591d608baa9c",
        "colab": {
          "base_uri": "https://localhost:8080/"
        }
      },
      "source": [
        "data['response_rate'] = np.where(data.response=='yes', 1,0)\n",
        "data.response_rate.value_counts()"
      ],
      "execution_count": 30,
      "outputs": [
        {
          "output_type": "execute_result",
          "data": {
            "text/plain": [
              "0    39876\n",
              "1     5285\n",
              "Name: response_rate, dtype: int64"
            ]
          },
          "metadata": {
            "tags": []
          },
          "execution_count": 30
        }
      ]
    },
    {
      "cell_type": "code",
      "metadata": {
        "id": "Y6eOO9Wf9tVm",
        "outputId": "24c496fd-67ef-4ef6-d897-fb8409bb1c16",
        "colab": {
          "base_uri": "https://localhost:8080/",
          "height": 312
        }
      },
      "source": [
        "data.groupby('marital')['response_rate'].mean().plot.bar()\n",
        "plt.show()"
      ],
      "execution_count": 31,
      "outputs": [
        {
          "output_type": "display_data",
          "data": {
            "image/png": "[encoded data removed]",
            "text/plain": [
              "<Figure size 432x288 with 1 Axes>"
            ]
          },
          "metadata": {
            "tags": [],
            "needs_background": "light"
          }
        }
      ]
    },
    {
      "cell_type": "markdown",
      "metadata": {
        "id": "lahMeGwy9_hZ"
      },
      "source": [
        "Pelo gráfico percebe-se que as respostas positivas são maiores para as pessoas solteiras.\n",
        "\n",
        "---"
      ]
    },
    {
      "cell_type": "markdown",
      "metadata": {
        "id": "YM3y9Bvk-JyN"
      },
      "source": [
        "## Análise multivariável\n",
        "\n",
        "Como o próprio nome já diz, é a análise de múltiplas variáveis ou colunas de um mesmo conjunto de dados."
      ]
    },
    {
      "cell_type": "code",
      "metadata": {
        "id": "PU4BDqCL96yb",
        "outputId": "39eaacad-61a1-4599-f868-66a2b700579f",
        "colab": {
          "base_uri": "https://localhost:8080/",
          "height": 378
        }
      },
      "source": [
        "result = pd.pivot_table(data = data, index = 'education', columns = 'marital', values = 'response_rate')\n",
        "print(result)\n",
        "\n",
        "sns.heatmap(result, annot=True, cmap = 'RdYlGn', center=0.117)\n",
        "plt.show()"
      ],
      "execution_count": 33,
      "outputs": [
        {
          "output_type": "stream",
          "text": [
            "marital    divorced   married    single\n",
            "education                              \n",
            "primary    0.138852  0.075601  0.106808\n",
            "secondary  0.103559  0.094650  0.129271\n",
            "tertiary   0.137415  0.129835  0.183737\n",
            "unknown    0.142012  0.122519  0.162879\n"
          ],
          "name": "stdout"
        },
        {
          "output_type": "display_data",
          "data": {
            "image/png": "[encoded data removed]",
            "text/plain": [
              "<Figure size 432x288 with 2 Axes>"
            ]
          },
          "metadata": {
            "tags": [],
            "needs_background": "light"
          }
        }
      ]
    },
    {
      "cell_type": "markdown",
      "metadata": {
        "id": "GPmvjEWW-8Sd"
      },
      "source": [
        "Pelo *heatmap* é perceptível que as pessoas casadas e que possuem educação primária (fundamental) são as que menos respondem positivamente à pesquisa e as pessoas solterias com ensino superior são as mais propensas a responder positivamente à pesquisa.\n",
        "\n",
        "---"
      ]
    },
    {
      "cell_type": "markdown",
      "metadata": {
        "id": "9YGuJPtQ_aDM"
      },
      "source": [
        "# Conclusão\n",
        "\n",
        "Através das análises realizadas foi possível perceber como é feita a análise exploratória de dados e que ela ajuda a olhar além dos dados. Claro que há muitos outros pontos que podem ser analisados e utilizados para análise, isso irá variar do objetivo final de cada projeto."
      ]
    }
  ]
}